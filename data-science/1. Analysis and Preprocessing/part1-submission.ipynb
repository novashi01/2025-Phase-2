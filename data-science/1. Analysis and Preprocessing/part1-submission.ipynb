{
 "cells": [
  {
   "cell_type": "markdown",
   "metadata": {},
   "source": [
    "# MSA 2025 Phase 2 - Part 1"
   ]
  },
  {
   "cell_type": "code",
   "execution_count": 6,
   "metadata": {},
   "outputs": [],
   "source": [
    "import sklearn\n",
    "import numpy as np\n",
    "import pandas as pd\n",
    "import seaborn as sns\n",
    "import matplotlib.pyplot as plt\n",
    "%matplotlib inline"
   ]
  },
  {
   "cell_type": "markdown",
   "metadata": {},
   "source": [
    "## 1. Find all variables and understand them"
   ]
  },
  {
   "cell_type": "code",
   "execution_count": 7,
   "metadata": {},
   "outputs": [
    {
     "data": {
      "text/html": [
       "<div>\n",
       "<style scoped>\n",
       "    .dataframe tbody tr th:only-of-type {\n",
       "        vertical-align: middle;\n",
       "    }\n",
       "\n",
       "    .dataframe tbody tr th {\n",
       "        vertical-align: top;\n",
       "    }\n",
       "\n",
       "    .dataframe thead th {\n",
       "        text-align: right;\n",
       "    }\n",
       "</style>\n",
       "<table border=\"1\" class=\"dataframe\">\n",
       "  <thead>\n",
       "    <tr style=\"text-align: right;\">\n",
       "      <th></th>\n",
       "      <th>Row ID</th>\n",
       "      <th>Order ID</th>\n",
       "      <th>Order Date</th>\n",
       "      <th>Ship Date</th>\n",
       "      <th>Ship Mode</th>\n",
       "      <th>Customer ID</th>\n",
       "      <th>Customer Name</th>\n",
       "      <th>Segment</th>\n",
       "      <th>Country</th>\n",
       "      <th>City</th>\n",
       "      <th>...</th>\n",
       "      <th>Postal Code</th>\n",
       "      <th>Region</th>\n",
       "      <th>Product ID</th>\n",
       "      <th>Category</th>\n",
       "      <th>Sub-Category</th>\n",
       "      <th>Product Name</th>\n",
       "      <th>Sales</th>\n",
       "      <th>Quantity</th>\n",
       "      <th>Discount</th>\n",
       "      <th>Profit</th>\n",
       "    </tr>\n",
       "  </thead>\n",
       "  <tbody>\n",
       "    <tr>\n",
       "      <th>0</th>\n",
       "      <td>1</td>\n",
       "      <td>CA-2016-152156</td>\n",
       "      <td>11/8/2016</td>\n",
       "      <td>11/11/2016</td>\n",
       "      <td>Second Class</td>\n",
       "      <td>CG-12520</td>\n",
       "      <td>Claire Gute</td>\n",
       "      <td>Consumer</td>\n",
       "      <td>United States</td>\n",
       "      <td>Henderson</td>\n",
       "      <td>...</td>\n",
       "      <td>42420</td>\n",
       "      <td>South</td>\n",
       "      <td>FUR-BO-10001798</td>\n",
       "      <td>Furniture</td>\n",
       "      <td>Bookcases</td>\n",
       "      <td>Bush Somerset Collection Bookcase</td>\n",
       "      <td>261.9600</td>\n",
       "      <td>2</td>\n",
       "      <td>0.00</td>\n",
       "      <td>41.9136</td>\n",
       "    </tr>\n",
       "    <tr>\n",
       "      <th>1</th>\n",
       "      <td>2</td>\n",
       "      <td>CA-2016-152156</td>\n",
       "      <td>11/8/2016</td>\n",
       "      <td>11/11/2016</td>\n",
       "      <td>Second Class</td>\n",
       "      <td>CG-12520</td>\n",
       "      <td>Claire Gute</td>\n",
       "      <td>Consumer</td>\n",
       "      <td>United States</td>\n",
       "      <td>Henderson</td>\n",
       "      <td>...</td>\n",
       "      <td>42420</td>\n",
       "      <td>South</td>\n",
       "      <td>FUR-CH-10000454</td>\n",
       "      <td>Furniture</td>\n",
       "      <td>Chairs</td>\n",
       "      <td>Hon Deluxe Fabric Upholstered Stacking Chairs,...</td>\n",
       "      <td>731.9400</td>\n",
       "      <td>3</td>\n",
       "      <td>0.00</td>\n",
       "      <td>219.5820</td>\n",
       "    </tr>\n",
       "    <tr>\n",
       "      <th>2</th>\n",
       "      <td>4</td>\n",
       "      <td>US-2015-108966</td>\n",
       "      <td>10/11/2015</td>\n",
       "      <td>10/18/2015</td>\n",
       "      <td>Standard Class</td>\n",
       "      <td>SO-20335</td>\n",
       "      <td>Sean O'Donnell</td>\n",
       "      <td>Consumer</td>\n",
       "      <td>United States</td>\n",
       "      <td>Fort Lauderdale</td>\n",
       "      <td>...</td>\n",
       "      <td>33311</td>\n",
       "      <td>South</td>\n",
       "      <td>FUR-TA-10000577</td>\n",
       "      <td>Furniture</td>\n",
       "      <td>Tables</td>\n",
       "      <td>Bretford CR4500 Series Slim Rectangular Table</td>\n",
       "      <td>957.5775</td>\n",
       "      <td>5</td>\n",
       "      <td>0.45</td>\n",
       "      <td>-383.0310</td>\n",
       "    </tr>\n",
       "    <tr>\n",
       "      <th>3</th>\n",
       "      <td>6</td>\n",
       "      <td>CA-2014-115812</td>\n",
       "      <td>6/9/2014</td>\n",
       "      <td>6/14/2014</td>\n",
       "      <td>Standard Class</td>\n",
       "      <td>BH-11710</td>\n",
       "      <td>Brosina Hoffman</td>\n",
       "      <td>Consumer</td>\n",
       "      <td>United States</td>\n",
       "      <td>Los Angeles</td>\n",
       "      <td>...</td>\n",
       "      <td>90032</td>\n",
       "      <td>West</td>\n",
       "      <td>FUR-FU-10001487</td>\n",
       "      <td>Furniture</td>\n",
       "      <td>Furnishings</td>\n",
       "      <td>Eldon Expressions Wood and Plastic Desk Access...</td>\n",
       "      <td>48.8600</td>\n",
       "      <td>7</td>\n",
       "      <td>0.00</td>\n",
       "      <td>14.1694</td>\n",
       "    </tr>\n",
       "    <tr>\n",
       "      <th>4</th>\n",
       "      <td>11</td>\n",
       "      <td>CA-2014-115812</td>\n",
       "      <td>6/9/2014</td>\n",
       "      <td>6/14/2014</td>\n",
       "      <td>Standard Class</td>\n",
       "      <td>BH-11710</td>\n",
       "      <td>Brosina Hoffman</td>\n",
       "      <td>Consumer</td>\n",
       "      <td>United States</td>\n",
       "      <td>Los Angeles</td>\n",
       "      <td>...</td>\n",
       "      <td>90032</td>\n",
       "      <td>West</td>\n",
       "      <td>FUR-TA-10001539</td>\n",
       "      <td>Furniture</td>\n",
       "      <td>Tables</td>\n",
       "      <td>Chromcraft Rectangular Conference Tables</td>\n",
       "      <td>1706.1840</td>\n",
       "      <td>9</td>\n",
       "      <td>0.20</td>\n",
       "      <td>85.3092</td>\n",
       "    </tr>\n",
       "  </tbody>\n",
       "</table>\n",
       "<p>5 rows × 21 columns</p>\n",
       "</div>"
      ],
      "text/plain": [
       "   Row ID        Order ID  Order Date   Ship Date       Ship Mode Customer ID  \\\n",
       "0       1  CA-2016-152156   11/8/2016  11/11/2016    Second Class    CG-12520   \n",
       "1       2  CA-2016-152156   11/8/2016  11/11/2016    Second Class    CG-12520   \n",
       "2       4  US-2015-108966  10/11/2015  10/18/2015  Standard Class    SO-20335   \n",
       "3       6  CA-2014-115812    6/9/2014   6/14/2014  Standard Class    BH-11710   \n",
       "4      11  CA-2014-115812    6/9/2014   6/14/2014  Standard Class    BH-11710   \n",
       "\n",
       "     Customer Name   Segment        Country             City  ... Postal Code  \\\n",
       "0      Claire Gute  Consumer  United States        Henderson  ...       42420   \n",
       "1      Claire Gute  Consumer  United States        Henderson  ...       42420   \n",
       "2   Sean O'Donnell  Consumer  United States  Fort Lauderdale  ...       33311   \n",
       "3  Brosina Hoffman  Consumer  United States      Los Angeles  ...       90032   \n",
       "4  Brosina Hoffman  Consumer  United States      Los Angeles  ...       90032   \n",
       "\n",
       "   Region       Product ID   Category Sub-Category  \\\n",
       "0   South  FUR-BO-10001798  Furniture    Bookcases   \n",
       "1   South  FUR-CH-10000454  Furniture       Chairs   \n",
       "2   South  FUR-TA-10000577  Furniture       Tables   \n",
       "3    West  FUR-FU-10001487  Furniture  Furnishings   \n",
       "4    West  FUR-TA-10001539  Furniture       Tables   \n",
       "\n",
       "                                        Product Name      Sales  Quantity  \\\n",
       "0                  Bush Somerset Collection Bookcase   261.9600         2   \n",
       "1  Hon Deluxe Fabric Upholstered Stacking Chairs,...   731.9400         3   \n",
       "2      Bretford CR4500 Series Slim Rectangular Table   957.5775         5   \n",
       "3  Eldon Expressions Wood and Plastic Desk Access...    48.8600         7   \n",
       "4           Chromcraft Rectangular Conference Tables  1706.1840         9   \n",
       "\n",
       "   Discount    Profit  \n",
       "0      0.00   41.9136  \n",
       "1      0.00  219.5820  \n",
       "2      0.45 -383.0310  \n",
       "3      0.00   14.1694  \n",
       "4      0.20   85.3092  \n",
       "\n",
       "[5 rows x 21 columns]"
      ]
     },
     "execution_count": 7,
     "metadata": {},
     "output_type": "execute_result"
    }
   ],
   "source": [
    "# Filepaths for W store and X store datasets\n",
    "x_filepath = '/workspaces/2025-Phase-2/data-science/1. Analysis and Preprocessing/datasets/X store sales/'\n",
    "x_sales = x_filepath + 'store_sales.csv'\n",
    "\n",
    "w_filepath ='/workspaces/2025-Phase-2/data-science/1. Analysis and Preprocessing/datasets/W store sales/'\n",
    "w_sales = w_filepath + 'sales.csv'\n",
    "w_stores = w_filepath + 'stores.csv'\n",
    "w_features = w_filepath + 'features.csv'\n",
    "\n",
    "df_x = pd.read_csv(x_sales, encoding='latin1')\n",
    "df_x.head()"
   ]
  },
  {
   "cell_type": "code",
   "execution_count": 12,
   "metadata": {},
   "outputs": [
    {
     "name": "stdout",
     "output_type": "stream",
     "text": [
      "-- Raw X Rows and Columns Info --\n",
      "<class 'pandas.core.frame.DataFrame'>\n",
      "RangeIndex: 2121 entries, 0 to 2120\n",
      "Data columns (total 21 columns):\n",
      " #   Column         Non-Null Count  Dtype  \n",
      "---  ------         --------------  -----  \n",
      " 0   Row ID         2121 non-null   int64  \n",
      " 1   Order ID       2121 non-null   object \n",
      " 2   Order Date     2121 non-null   object \n",
      " 3   Ship Date      2121 non-null   object \n",
      " 4   Ship Mode      2121 non-null   object \n",
      " 5   Customer ID    2121 non-null   object \n",
      " 6   Customer Name  2121 non-null   object \n",
      " 7   Segment        2121 non-null   object \n",
      " 8   Country        2121 non-null   object \n",
      " 9   City           2121 non-null   object \n",
      " 10  State          2121 non-null   object \n",
      " 11  Postal Code    2121 non-null   int64  \n",
      " 12  Region         2121 non-null   object \n",
      " 13  Product ID     2121 non-null   object \n",
      " 14  Category       2121 non-null   object \n",
      " 15  Sub-Category   2121 non-null   object \n",
      " 16  Product Name   2121 non-null   object \n",
      " 17  Sales          2121 non-null   float64\n",
      " 18  Quantity       2121 non-null   int64  \n",
      " 19  Discount       2121 non-null   float64\n",
      " 20  Profit         2121 non-null   float64\n",
      "dtypes: float64(3), int64(3), object(15)\n",
      "memory usage: 348.1+ KB\n",
      "None\n"
     ]
    }
   ],
   "source": [
    "print(\"-- Raw X Rows and Columns Info --\")\n",
    "print(df_x.info())"
   ]
  },
  {
   "cell_type": "code",
   "execution_count": 8,
   "metadata": {},
   "outputs": [
    {
     "name": "stdout",
     "output_type": "stream",
     "text": [
      "W Store Sales DataFrame:\n",
      "   Store  Dept        Date  Weekly_Sales  IsHoliday\n",
      "0      1     1  2010-02-05      24924.50      False\n",
      "1      1     1  2010-02-12      46039.49       True\n",
      "2      1     1  2010-02-19      41595.55      False\n",
      "3      1     1  2010-02-26      19403.54      False\n",
      "4      1     1  2010-03-05      21827.90      False\n",
      "\n",
      "W Store Stores DataFrame:\n",
      "   Store Type    Size\n",
      "0      1    A  151315\n",
      "1      2    A  202307\n",
      "2      3    B   37392\n",
      "3      4    A  205863\n",
      "4      5    B   34875\n",
      "\n",
      "W Store Features DataFrame:\n",
      "   Store        Date  Temperature  Fuel_Price  MarkDown1  MarkDown2  \\\n",
      "0      1  2010-02-05        42.31       2.572        NaN        NaN   \n",
      "1      1  2010-02-12        38.51       2.548        NaN        NaN   \n",
      "2      1  2010-02-19        39.93       2.514        NaN        NaN   \n",
      "3      1  2010-02-26        46.63       2.561        NaN        NaN   \n",
      "4      1  2010-03-05        46.50       2.625        NaN        NaN   \n",
      "\n",
      "   MarkDown3  MarkDown4  MarkDown5         CPI  Unemployment  IsHoliday  \n",
      "0        NaN        NaN        NaN  211.096358         8.106      False  \n",
      "1        NaN        NaN        NaN  211.242170         8.106       True  \n",
      "2        NaN        NaN        NaN  211.289143         8.106      False  \n",
      "3        NaN        NaN        NaN  211.319643         8.106      False  \n",
      "4        NaN        NaN        NaN  211.350143         8.106      False  \n"
     ]
    }
   ],
   "source": [
    "df_w_sales = pd.read_csv(w_sales)\n",
    "df_w_stores = pd.read_csv(w_stores)\n",
    "df_w_features = pd.read_csv(w_features)\n",
    "\n",
    "# Display the first few rows of each DataFrame\n",
    "print(\"W Store Sales DataFrame:\")\n",
    "print(df_w_sales.head())\n",
    "print(\"\\nW Store Stores DataFrame:\")\n",
    "print(df_w_stores.head())\n",
    "print(\"\\nW Store Features DataFrame:\")\n",
    "print(df_w_features.head())"
   ]
  },
  {
   "cell_type": "code",
   "execution_count": null,
   "metadata": {},
   "outputs": [
    {
     "name": "stdout",
     "output_type": "stream",
     "text": [
      "-- Raw Rows and Columns Info --\n",
      "W Store Sales DataFrame:\n",
      "<class 'pandas.core.frame.DataFrame'>\n",
      "RangeIndex: 421570 entries, 0 to 421569\n",
      "Data columns (total 5 columns):\n",
      " #   Column        Non-Null Count   Dtype  \n",
      "---  ------        --------------   -----  \n",
      " 0   Store         421570 non-null  int64  \n",
      " 1   Dept          421570 non-null  int64  \n",
      " 2   Date          421570 non-null  object \n",
      " 3   Weekly_Sales  421570 non-null  float64\n",
      " 4   IsHoliday     421570 non-null  bool   \n",
      "dtypes: bool(1), float64(1), int64(2), object(1)\n",
      "memory usage: 13.3+ MB\n",
      "None\n",
      "\n",
      "W Store Stores DataFrame:\n",
      "<class 'pandas.core.frame.DataFrame'>\n",
      "RangeIndex: 45 entries, 0 to 44\n",
      "Data columns (total 3 columns):\n",
      " #   Column  Non-Null Count  Dtype \n",
      "---  ------  --------------  ----- \n",
      " 0   Store   45 non-null     int64 \n",
      " 1   Type    45 non-null     object\n",
      " 2   Size    45 non-null     int64 \n",
      "dtypes: int64(2), object(1)\n",
      "memory usage: 1.2+ KB\n",
      "None\n",
      "\n",
      "W Store Features DataFrame:\n",
      "<class 'pandas.core.frame.DataFrame'>\n",
      "RangeIndex: 8190 entries, 0 to 8189\n",
      "Data columns (total 12 columns):\n",
      " #   Column        Non-Null Count  Dtype  \n",
      "---  ------        --------------  -----  \n",
      " 0   Store         8190 non-null   int64  \n",
      " 1   Date          8190 non-null   object \n",
      " 2   Temperature   8190 non-null   float64\n",
      " 3   Fuel_Price    8190 non-null   float64\n",
      " 4   MarkDown1     4032 non-null   float64\n",
      " 5   MarkDown2     2921 non-null   float64\n",
      " 6   MarkDown3     3613 non-null   float64\n",
      " 7   MarkDown4     3464 non-null   float64\n",
      " 8   MarkDown5     4050 non-null   float64\n",
      " 9   CPI           7605 non-null   float64\n",
      " 10  Unemployment  7605 non-null   float64\n",
      " 11  IsHoliday     8190 non-null   bool   \n",
      "dtypes: bool(1), float64(9), int64(1), object(1)\n",
      "memory usage: 712.0+ KB\n",
      "None\n"
     ]
    }
   ],
   "source": [
    "print(\"-- Raw W Rows and Columns Info --\")\n",
    "print(\"W Store Sales DataFrame:\")\n",
    "print(df_w_sales.info())\n",
    "print(\"\\nW Store Stores DataFrame:\")\n",
    "print(df_w_stores.info())\n",
    "print(\"\\nW Store Features DataFrame:\")\n",
    "print(df_w_features.info())"
   ]
  },
  {
   "cell_type": "code",
   "execution_count": 9,
   "metadata": {},
   "outputs": [
    {
     "name": "stdout",
     "output_type": "stream",
     "text": [
      "\n",
      "Merged W Store DataFrame:\n",
      "   Store  Dept        Date  Weekly_Sales  IsHoliday_x  Temperature  \\\n",
      "0      1     1  2010-02-05      24924.50        False        42.31   \n",
      "1      1     1  2010-02-12      46039.49         True        38.51   \n",
      "2      1     1  2010-02-19      41595.55        False        39.93   \n",
      "3      1     1  2010-02-26      19403.54        False        46.63   \n",
      "4      1     1  2010-03-05      21827.90        False        46.50   \n",
      "\n",
      "   Fuel_Price  MarkDown1  MarkDown2  MarkDown3  MarkDown4  MarkDown5  \\\n",
      "0       2.572        NaN        NaN        NaN        NaN        NaN   \n",
      "1       2.548        NaN        NaN        NaN        NaN        NaN   \n",
      "2       2.514        NaN        NaN        NaN        NaN        NaN   \n",
      "3       2.561        NaN        NaN        NaN        NaN        NaN   \n",
      "4       2.625        NaN        NaN        NaN        NaN        NaN   \n",
      "\n",
      "          CPI  Unemployment  IsHoliday_y  \n",
      "0  211.096358         8.106        False  \n",
      "1  211.242170         8.106         True  \n",
      "2  211.289143         8.106        False  \n",
      "3  211.319643         8.106        False  \n",
      "4  211.350143         8.106        False  \n"
     ]
    }
   ],
   "source": [
    "# merge W store sales with stores and features\n",
    "df_w_merged = df_w_sales.merge(df_w_features, on=['Store', 'Date'], how='left') \\\n",
    "                        #  .merge(df_w_features, on='Date', how='left')\n",
    "\n",
    "# Display the first few rows of the merged DataFrame\n",
    "print(\"\\nMerged W Store DataFrame:\")\n",
    "print(df_w_merged.head())"
   ]
  },
  {
   "cell_type": "code",
   "execution_count": 13,
   "metadata": {},
   "outputs": [
    {
     "name": "stdout",
     "output_type": "stream",
     "text": [
      "<class 'pandas.core.frame.DataFrame'>\n",
      "RangeIndex: 421570 entries, 0 to 421569\n",
      "Data columns (total 15 columns):\n",
      " #   Column        Non-Null Count   Dtype  \n",
      "---  ------        --------------   -----  \n",
      " 0   Store         421570 non-null  int64  \n",
      " 1   Dept          421570 non-null  int64  \n",
      " 2   Date          421570 non-null  object \n",
      " 3   Weekly_Sales  421570 non-null  float64\n",
      " 4   IsHoliday_x   421570 non-null  bool   \n",
      " 5   Temperature   421570 non-null  float64\n",
      " 6   Fuel_Price    421570 non-null  float64\n",
      " 7   MarkDown1     150681 non-null  float64\n",
      " 8   MarkDown2     111248 non-null  float64\n",
      " 9   MarkDown3     137091 non-null  float64\n",
      " 10  MarkDown4     134967 non-null  float64\n",
      " 11  MarkDown5     151432 non-null  float64\n",
      " 12  CPI           421570 non-null  float64\n",
      " 13  Unemployment  421570 non-null  float64\n",
      " 14  IsHoliday_y   421570 non-null  bool   \n",
      "dtypes: bool(2), float64(10), int64(2), object(1)\n",
      "memory usage: 42.6+ MB\n",
      "None\n"
     ]
    }
   ],
   "source": [
    "print(df_w_merged.info())"
   ]
  },
  {
   "cell_type": "code",
   "execution_count": 14,
   "metadata": {},
   "outputs": [
    {
     "name": "stdout",
     "output_type": "stream",
     "text": [
      "\n",
      "Final Merged W Store DataFrame:\n",
      "   Store  Dept        Date  Weekly_Sales  IsHoliday_x  Temperature  \\\n",
      "0      1     1  2010-02-05      24924.50        False        42.31   \n",
      "1      1     1  2010-02-12      46039.49         True        38.51   \n",
      "2      1     1  2010-02-19      41595.55        False        39.93   \n",
      "3      1     1  2010-02-26      19403.54        False        46.63   \n",
      "4      1     1  2010-03-05      21827.90        False        46.50   \n",
      "\n",
      "   Fuel_Price  MarkDown1  MarkDown2  MarkDown3  MarkDown4  MarkDown5  \\\n",
      "0       2.572        NaN        NaN        NaN        NaN        NaN   \n",
      "1       2.548        NaN        NaN        NaN        NaN        NaN   \n",
      "2       2.514        NaN        NaN        NaN        NaN        NaN   \n",
      "3       2.561        NaN        NaN        NaN        NaN        NaN   \n",
      "4       2.625        NaN        NaN        NaN        NaN        NaN   \n",
      "\n",
      "          CPI  Unemployment  IsHoliday_y Type    Size  \n",
      "0  211.096358         8.106        False    A  151315  \n",
      "1  211.242170         8.106         True    A  151315  \n",
      "2  211.289143         8.106        False    A  151315  \n",
      "3  211.319643         8.106        False    A  151315  \n",
      "4  211.350143         8.106        False    A  151315  \n"
     ]
    }
   ],
   "source": [
    "# merge W store sales with stores\n",
    "df_w_final = df_w_merged.merge(df_w_stores, on='Store', how='left')\n",
    "# Display the first few rows of the final merged DataFrame\n",
    "print(\"\\nFinal Merged W Store DataFrame:\")\n",
    "print(df_w_final.head())"
   ]
  },
  {
   "cell_type": "code",
   "execution_count": 15,
   "metadata": {},
   "outputs": [
    {
     "name": "stdout",
     "output_type": "stream",
     "text": [
      "<class 'pandas.core.frame.DataFrame'>\n",
      "RangeIndex: 421570 entries, 0 to 421569\n",
      "Data columns (total 17 columns):\n",
      " #   Column        Non-Null Count   Dtype  \n",
      "---  ------        --------------   -----  \n",
      " 0   Store         421570 non-null  int64  \n",
      " 1   Dept          421570 non-null  int64  \n",
      " 2   Date          421570 non-null  object \n",
      " 3   Weekly_Sales  421570 non-null  float64\n",
      " 4   IsHoliday_x   421570 non-null  bool   \n",
      " 5   Temperature   421570 non-null  float64\n",
      " 6   Fuel_Price    421570 non-null  float64\n",
      " 7   MarkDown1     150681 non-null  float64\n",
      " 8   MarkDown2     111248 non-null  float64\n",
      " 9   MarkDown3     137091 non-null  float64\n",
      " 10  MarkDown4     134967 non-null  float64\n",
      " 11  MarkDown5     151432 non-null  float64\n",
      " 12  CPI           421570 non-null  float64\n",
      " 13  Unemployment  421570 non-null  float64\n",
      " 14  IsHoliday_y   421570 non-null  bool   \n",
      " 15  Type          421570 non-null  object \n",
      " 16  Size          421570 non-null  int64  \n",
      "dtypes: bool(2), float64(10), int64(3), object(2)\n",
      "memory usage: 49.0+ MB\n",
      "None\n"
     ]
    }
   ],
   "source": [
    "print(df_w_final.info())"
   ]
  },
  {
   "cell_type": "markdown",
   "metadata": {},
   "source": [
    "## 2. Clean data"
   ]
  },
  {
   "cell_type": "code",
   "execution_count": 3,
   "metadata": {},
   "outputs": [],
   "source": [
    "#"
   ]
  },
  {
   "cell_type": "markdown",
   "metadata": {},
   "source": [
    "## 3. Visualise data"
   ]
  },
  {
   "cell_type": "code",
   "execution_count": 4,
   "metadata": {},
   "outputs": [],
   "source": [
    "#"
   ]
  },
  {
   "cell_type": "markdown",
   "metadata": {},
   "source": [
    "## 4. Identify correlated variables"
   ]
  },
  {
   "cell_type": "code",
   "execution_count": 5,
   "metadata": {},
   "outputs": [],
   "source": [
    "#"
   ]
  },
  {
   "cell_type": "markdown",
   "metadata": {},
   "source": [
    "## 5. Summary"
   ]
  },
  {
   "cell_type": "markdown",
   "metadata": {},
   "source": []
  }
 ],
 "metadata": {
  "kernelspec": {
   "display_name": "Python 3",
   "language": "python",
   "name": "python3"
  },
  "language_info": {
   "codemirror_mode": {
    "name": "ipython",
    "version": 3
   },
   "file_extension": ".py",
   "mimetype": "text/x-python",
   "name": "python",
   "nbconvert_exporter": "python",
   "pygments_lexer": "ipython3",
   "version": "3.12.1"
  }
 },
 "nbformat": 4,
 "nbformat_minor": 2
}
